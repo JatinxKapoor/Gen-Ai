{
  "nbformat": 4,
  "nbformat_minor": 0,
  "metadata": {
    "colab": {
      "provenance": []
    },
    "kernelspec": {
      "name": "python3",
      "display_name": "Python 3"
    },
    "language_info": {
      "name": "python"
    }
  },
  "cells": [
    {
      "cell_type": "code",
      "execution_count": null,
      "metadata": {
        "id": "5LDC1T_kv_kq"
      },
      "outputs": [],
      "source": [
        "import spacy\n",
        "nlp = spacy.load(\"en_core_web_sm\")"
      ]
    },
    {
      "cell_type": "markdown",
      "source": [
        "Create a Doc object from the file peterrabbit.txt"
      ],
      "metadata": {
        "id": "wFDHFlXDwjLx"
      }
    },
    {
      "cell_type": "code",
      "source": [
        "with open (\"/content/peterrabbit.txt\") as f:\n",
        "    doc = nlp(f.read())"
      ],
      "metadata": {
        "id": "0QJC0Bd1wane"
      },
      "execution_count": null,
      "outputs": []
    },
    {
      "cell_type": "markdown",
      "source": [
        "For every token in the third sentence, print the token text, the POS tag, the fine-grained TAG tag, and the description of the fine-grained tag."
      ],
      "metadata": {
        "id": "5ryzWgahxPji"
      }
    },
    {
      "cell_type": "code",
      "source": [
        "sentences = list(doc.sents)\n",
        "third_sentence = sentences[2]\n",
        "for token in third_sentence:\n",
        "    print(f\"Token: {token.text}, POS Tag: {token.pos_}, Fine-grained Tag: {token.tag_}, Description: {spacy.explain(token.tag_)}\")"
      ],
      "metadata": {
        "colab": {
          "base_uri": "https://localhost:8080/"
        },
        "id": "gR13KANCxO7N",
        "outputId": "20ec1ab1-48ed-4f9a-ccaa-9942e41a88f2"
      },
      "execution_count": null,
      "outputs": [
        {
          "output_type": "stream",
          "name": "stdout",
          "text": [
            "Token: They, POS Tag: PRON, Fine-grained Tag: PRP, Description: pronoun, personal\n",
            "Token: lived, POS Tag: VERB, Fine-grained Tag: VBD, Description: verb, past tense\n",
            "Token: with, POS Tag: ADP, Fine-grained Tag: IN, Description: conjunction, subordinating or preposition\n",
            "Token: their, POS Tag: PRON, Fine-grained Tag: PRP$, Description: pronoun, possessive\n",
            "Token: Mother, POS Tag: PROPN, Fine-grained Tag: NNP, Description: noun, proper singular\n",
            "Token: in, POS Tag: ADP, Fine-grained Tag: IN, Description: conjunction, subordinating or preposition\n",
            "Token: a, POS Tag: DET, Fine-grained Tag: DT, Description: determiner\n",
            "Token: sand, POS Tag: NOUN, Fine-grained Tag: NN, Description: noun, singular or mass\n",
            "Token: -, POS Tag: PUNCT, Fine-grained Tag: HYPH, Description: punctuation mark, hyphen\n",
            "Token: bank, POS Tag: NOUN, Fine-grained Tag: NN, Description: noun, singular or mass\n",
            "Token: ,, POS Tag: PUNCT, Fine-grained Tag: ,, Description: punctuation mark, comma\n",
            "Token: underneath, POS Tag: ADP, Fine-grained Tag: IN, Description: conjunction, subordinating or preposition\n",
            "Token: the, POS Tag: DET, Fine-grained Tag: DT, Description: determiner\n",
            "Token: root, POS Tag: NOUN, Fine-grained Tag: NN, Description: noun, singular or mass\n",
            "Token: of, POS Tag: ADP, Fine-grained Tag: IN, Description: conjunction, subordinating or preposition\n",
            "Token: a, POS Tag: DET, Fine-grained Tag: DT, Description: determiner\n",
            "Token: \n",
            ", POS Tag: SPACE, Fine-grained Tag: _SP, Description: whitespace\n",
            "Token: very, POS Tag: ADV, Fine-grained Tag: RB, Description: adverb\n",
            "Token: big, POS Tag: ADJ, Fine-grained Tag: JJ, Description: adjective (English), other noun-modifier (Chinese)\n",
            "Token: fir, POS Tag: NOUN, Fine-grained Tag: NN, Description: noun, singular or mass\n",
            "Token: -, POS Tag: PUNCT, Fine-grained Tag: HYPH, Description: punctuation mark, hyphen\n",
            "Token: tree, POS Tag: NOUN, Fine-grained Tag: NN, Description: noun, singular or mass\n",
            "Token: ., POS Tag: PUNCT, Fine-grained Tag: ., Description: punctuation mark, sentence closer\n",
            "Token: \n",
            "\n",
            ", POS Tag: SPACE, Fine-grained Tag: _SP, Description: whitespace\n"
          ]
        }
      ]
    },
    {
      "cell_type": "markdown",
      "source": [
        "Provide a frequency list of POS tags from the entire document"
      ],
      "metadata": {
        "id": "wStGUhT7ylSy"
      }
    },
    {
      "cell_type": "code",
      "source": [
        "Pos_counts = doc.count_by(spacy.attrs.POS)\n",
        "Pos_counts"
      ],
      "metadata": {
        "colab": {
          "base_uri": "https://localhost:8080/"
        },
        "id": "Sa0I6_8nyPXJ",
        "outputId": "60d4aa8c-a937-4729-d465-9a3f6b2f278e"
      },
      "execution_count": null,
      "outputs": [
        {
          "output_type": "execute_result",
          "data": {
            "text/plain": [
              "{90: 90,\n",
              " 96: 75,\n",
              " 85: 124,\n",
              " 97: 172,\n",
              " 93: 8,\n",
              " 103: 99,\n",
              " 86: 65,\n",
              " 98: 20,\n",
              " 92: 173,\n",
              " 95: 108,\n",
              " 100: 131,\n",
              " 84: 54,\n",
              " 89: 61,\n",
              " 87: 50,\n",
              " 94: 28}"
            ]
          },
          "metadata": {},
          "execution_count": 4
        }
      ]
    },
    {
      "cell_type": "markdown",
      "source": [
        "CHALLENGE: What percentage of tokens are nouns?"
      ],
      "metadata": {
        "id": "9OUXGe_81p7D"
      }
    },
    {
      "cell_type": "code",
      "source": [
        "noun_count = 0\n",
        "for token in doc:\n",
        "    if token.pos_ == \"NOUN\":\n",
        "        noun_count += 1  # Increment the noun count if the token is a noun\n",
        "\n",
        "percentage = (noun_count / len(doc)) * 100\n",
        "print(f\"'Percentage':{percentage}\")"
      ],
      "metadata": {
        "colab": {
          "base_uri": "https://localhost:8080/"
        },
        "id": "wWbswCBK3ZgL",
        "outputId": "98533d9f-49d1-43c2-a925-122aed944bb9"
      },
      "execution_count": null,
      "outputs": [
        {
          "output_type": "stream",
          "name": "stdout",
          "text": [
            "'Percentage':13.751987281399048\n"
          ]
        }
      ]
    },
    {
      "cell_type": "markdown",
      "source": [
        "Display the Dependency Parse for the third sentence"
      ],
      "metadata": {
        "id": "DnZDwhsL3vvE"
      }
    },
    {
      "cell_type": "code",
      "source": [
        "from spacy import displacy"
      ],
      "metadata": {
        "id": "R3ZRO5NO4msF"
      },
      "execution_count": null,
      "outputs": []
    },
    {
      "cell_type": "code",
      "source": [
        "doc1 = nlp(sentences[2].text)\n",
        "displacy.render(doc1, style = 'dep', jupyter=True , options={'distance' : 70})"
      ],
      "metadata": {
        "colab": {
          "base_uri": "https://localhost:8080/",
          "height": 319
        },
        "id": "di543nfL3qFG",
        "outputId": "a56496b4-151e-459d-e12a-be35a5b73552"
      },
      "execution_count": null,
      "outputs": [
        {
          "output_type": "display_data",
          "data": {
            "text/plain": [
              "<IPython.core.display.HTML object>"
            ],
            "text/html": [
              "<span class=\"tex2jax_ignore\"><svg xmlns=\"http://www.w3.org/2000/svg\" xmlns:xlink=\"http://www.w3.org/1999/xlink\" xml:lang=\"en\" id=\"9e072629c21f4f10be68b7d1ee6028e3-0\" class=\"displacy\" width=\"1450\" height=\"277.0\" direction=\"ltr\" style=\"max-width: none; height: 277.0px; color: #000000; background: #ffffff; font-family: Arial; direction: ltr\">\n",
              "<text class=\"displacy-token\" fill=\"currentColor\" text-anchor=\"middle\" y=\"187.0\">\n",
              "    <tspan class=\"displacy-word\" fill=\"currentColor\" x=\"50\">They</tspan>\n",
              "    <tspan class=\"displacy-tag\" dy=\"2em\" fill=\"currentColor\" x=\"50\">PRON</tspan>\n",
              "</text>\n",
              "\n",
              "<text class=\"displacy-token\" fill=\"currentColor\" text-anchor=\"middle\" y=\"187.0\">\n",
              "    <tspan class=\"displacy-word\" fill=\"currentColor\" x=\"120\">lived</tspan>\n",
              "    <tspan class=\"displacy-tag\" dy=\"2em\" fill=\"currentColor\" x=\"120\">VERB</tspan>\n",
              "</text>\n",
              "\n",
              "<text class=\"displacy-token\" fill=\"currentColor\" text-anchor=\"middle\" y=\"187.0\">\n",
              "    <tspan class=\"displacy-word\" fill=\"currentColor\" x=\"190\">with</tspan>\n",
              "    <tspan class=\"displacy-tag\" dy=\"2em\" fill=\"currentColor\" x=\"190\">ADP</tspan>\n",
              "</text>\n",
              "\n",
              "<text class=\"displacy-token\" fill=\"currentColor\" text-anchor=\"middle\" y=\"187.0\">\n",
              "    <tspan class=\"displacy-word\" fill=\"currentColor\" x=\"260\">their</tspan>\n",
              "    <tspan class=\"displacy-tag\" dy=\"2em\" fill=\"currentColor\" x=\"260\">PRON</tspan>\n",
              "</text>\n",
              "\n",
              "<text class=\"displacy-token\" fill=\"currentColor\" text-anchor=\"middle\" y=\"187.0\">\n",
              "    <tspan class=\"displacy-word\" fill=\"currentColor\" x=\"330\">Mother</tspan>\n",
              "    <tspan class=\"displacy-tag\" dy=\"2em\" fill=\"currentColor\" x=\"330\">PROPN</tspan>\n",
              "</text>\n",
              "\n",
              "<text class=\"displacy-token\" fill=\"currentColor\" text-anchor=\"middle\" y=\"187.0\">\n",
              "    <tspan class=\"displacy-word\" fill=\"currentColor\" x=\"400\">in</tspan>\n",
              "    <tspan class=\"displacy-tag\" dy=\"2em\" fill=\"currentColor\" x=\"400\">ADP</tspan>\n",
              "</text>\n",
              "\n",
              "<text class=\"displacy-token\" fill=\"currentColor\" text-anchor=\"middle\" y=\"187.0\">\n",
              "    <tspan class=\"displacy-word\" fill=\"currentColor\" x=\"470\">a</tspan>\n",
              "    <tspan class=\"displacy-tag\" dy=\"2em\" fill=\"currentColor\" x=\"470\">DET</tspan>\n",
              "</text>\n",
              "\n",
              "<text class=\"displacy-token\" fill=\"currentColor\" text-anchor=\"middle\" y=\"187.0\">\n",
              "    <tspan class=\"displacy-word\" fill=\"currentColor\" x=\"540\">sand-</tspan>\n",
              "    <tspan class=\"displacy-tag\" dy=\"2em\" fill=\"currentColor\" x=\"540\">NOUN</tspan>\n",
              "</text>\n",
              "\n",
              "<text class=\"displacy-token\" fill=\"currentColor\" text-anchor=\"middle\" y=\"187.0\">\n",
              "    <tspan class=\"displacy-word\" fill=\"currentColor\" x=\"610\">bank,</tspan>\n",
              "    <tspan class=\"displacy-tag\" dy=\"2em\" fill=\"currentColor\" x=\"610\">NOUN</tspan>\n",
              "</text>\n",
              "\n",
              "<text class=\"displacy-token\" fill=\"currentColor\" text-anchor=\"middle\" y=\"187.0\">\n",
              "    <tspan class=\"displacy-word\" fill=\"currentColor\" x=\"680\">underneath</tspan>\n",
              "    <tspan class=\"displacy-tag\" dy=\"2em\" fill=\"currentColor\" x=\"680\">ADP</tspan>\n",
              "</text>\n",
              "\n",
              "<text class=\"displacy-token\" fill=\"currentColor\" text-anchor=\"middle\" y=\"187.0\">\n",
              "    <tspan class=\"displacy-word\" fill=\"currentColor\" x=\"750\">the</tspan>\n",
              "    <tspan class=\"displacy-tag\" dy=\"2em\" fill=\"currentColor\" x=\"750\">DET</tspan>\n",
              "</text>\n",
              "\n",
              "<text class=\"displacy-token\" fill=\"currentColor\" text-anchor=\"middle\" y=\"187.0\">\n",
              "    <tspan class=\"displacy-word\" fill=\"currentColor\" x=\"820\">root</tspan>\n",
              "    <tspan class=\"displacy-tag\" dy=\"2em\" fill=\"currentColor\" x=\"820\">NOUN</tspan>\n",
              "</text>\n",
              "\n",
              "<text class=\"displacy-token\" fill=\"currentColor\" text-anchor=\"middle\" y=\"187.0\">\n",
              "    <tspan class=\"displacy-word\" fill=\"currentColor\" x=\"890\">of</tspan>\n",
              "    <tspan class=\"displacy-tag\" dy=\"2em\" fill=\"currentColor\" x=\"890\">ADP</tspan>\n",
              "</text>\n",
              "\n",
              "<text class=\"displacy-token\" fill=\"currentColor\" text-anchor=\"middle\" y=\"187.0\">\n",
              "    <tspan class=\"displacy-word\" fill=\"currentColor\" x=\"960\">a</tspan>\n",
              "    <tspan class=\"displacy-tag\" dy=\"2em\" fill=\"currentColor\" x=\"960\">DET</tspan>\n",
              "</text>\n",
              "\n",
              "<text class=\"displacy-token\" fill=\"currentColor\" text-anchor=\"middle\" y=\"187.0\">\n",
              "    <tspan class=\"displacy-word\" fill=\"currentColor\" x=\"1030\">\n",
              "</tspan>\n",
              "    <tspan class=\"displacy-tag\" dy=\"2em\" fill=\"currentColor\" x=\"1030\">SPACE</tspan>\n",
              "</text>\n",
              "\n",
              "<text class=\"displacy-token\" fill=\"currentColor\" text-anchor=\"middle\" y=\"187.0\">\n",
              "    <tspan class=\"displacy-word\" fill=\"currentColor\" x=\"1100\">very</tspan>\n",
              "    <tspan class=\"displacy-tag\" dy=\"2em\" fill=\"currentColor\" x=\"1100\">ADV</tspan>\n",
              "</text>\n",
              "\n",
              "<text class=\"displacy-token\" fill=\"currentColor\" text-anchor=\"middle\" y=\"187.0\">\n",
              "    <tspan class=\"displacy-word\" fill=\"currentColor\" x=\"1170\">big</tspan>\n",
              "    <tspan class=\"displacy-tag\" dy=\"2em\" fill=\"currentColor\" x=\"1170\">ADJ</tspan>\n",
              "</text>\n",
              "\n",
              "<text class=\"displacy-token\" fill=\"currentColor\" text-anchor=\"middle\" y=\"187.0\">\n",
              "    <tspan class=\"displacy-word\" fill=\"currentColor\" x=\"1240\">fir-</tspan>\n",
              "    <tspan class=\"displacy-tag\" dy=\"2em\" fill=\"currentColor\" x=\"1240\">NOUN</tspan>\n",
              "</text>\n",
              "\n",
              "<text class=\"displacy-token\" fill=\"currentColor\" text-anchor=\"middle\" y=\"187.0\">\n",
              "    <tspan class=\"displacy-word\" fill=\"currentColor\" x=\"1310\">tree.</tspan>\n",
              "    <tspan class=\"displacy-tag\" dy=\"2em\" fill=\"currentColor\" x=\"1310\">PUNCT</tspan>\n",
              "</text>\n",
              "\n",
              "<text class=\"displacy-token\" fill=\"currentColor\" text-anchor=\"middle\" y=\"187.0\">\n",
              "    <tspan class=\"displacy-word\" fill=\"currentColor\" x=\"1380\">\n",
              "\n",
              "</tspan>\n",
              "    <tspan class=\"displacy-tag\" dy=\"2em\" fill=\"currentColor\" x=\"1380\">SPACE</tspan>\n",
              "</text>\n",
              "\n",
              "<g class=\"displacy-arrow\">\n",
              "    <path class=\"displacy-arc\" id=\"arrow-9e072629c21f4f10be68b7d1ee6028e3-0-0\" stroke-width=\"2px\" d=\"M70,142.0 C70,107.0 105.0,107.0 105.0,142.0\" fill=\"none\" stroke=\"currentColor\"/>\n",
              "    <text dy=\"1.25em\" style=\"font-size: 0.8em; letter-spacing: 1px\">\n",
              "        <textPath xlink:href=\"#arrow-9e072629c21f4f10be68b7d1ee6028e3-0-0\" class=\"displacy-label\" startOffset=\"50%\" side=\"left\" fill=\"currentColor\" text-anchor=\"middle\">nsubj</textPath>\n",
              "    </text>\n",
              "    <path class=\"displacy-arrowhead\" d=\"M70,144.0 L62,132.0 78,132.0\" fill=\"currentColor\"/>\n",
              "</g>\n",
              "\n",
              "<g class=\"displacy-arrow\">\n",
              "    <path class=\"displacy-arc\" id=\"arrow-9e072629c21f4f10be68b7d1ee6028e3-0-1\" stroke-width=\"2px\" d=\"M140,142.0 C140,107.0 175.0,107.0 175.0,142.0\" fill=\"none\" stroke=\"currentColor\"/>\n",
              "    <text dy=\"1.25em\" style=\"font-size: 0.8em; letter-spacing: 1px\">\n",
              "        <textPath xlink:href=\"#arrow-9e072629c21f4f10be68b7d1ee6028e3-0-1\" class=\"displacy-label\" startOffset=\"50%\" side=\"left\" fill=\"currentColor\" text-anchor=\"middle\">prep</textPath>\n",
              "    </text>\n",
              "    <path class=\"displacy-arrowhead\" d=\"M175.0,144.0 L183.0,132.0 167.0,132.0\" fill=\"currentColor\"/>\n",
              "</g>\n",
              "\n",
              "<g class=\"displacy-arrow\">\n",
              "    <path class=\"displacy-arc\" id=\"arrow-9e072629c21f4f10be68b7d1ee6028e3-0-2\" stroke-width=\"2px\" d=\"M280,142.0 C280,107.0 315.0,107.0 315.0,142.0\" fill=\"none\" stroke=\"currentColor\"/>\n",
              "    <text dy=\"1.25em\" style=\"font-size: 0.8em; letter-spacing: 1px\">\n",
              "        <textPath xlink:href=\"#arrow-9e072629c21f4f10be68b7d1ee6028e3-0-2\" class=\"displacy-label\" startOffset=\"50%\" side=\"left\" fill=\"currentColor\" text-anchor=\"middle\">poss</textPath>\n",
              "    </text>\n",
              "    <path class=\"displacy-arrowhead\" d=\"M280,144.0 L272,132.0 288,132.0\" fill=\"currentColor\"/>\n",
              "</g>\n",
              "\n",
              "<g class=\"displacy-arrow\">\n",
              "    <path class=\"displacy-arc\" id=\"arrow-9e072629c21f4f10be68b7d1ee6028e3-0-3\" stroke-width=\"2px\" d=\"M210,142.0 C210,72.0 320.0,72.0 320.0,142.0\" fill=\"none\" stroke=\"currentColor\"/>\n",
              "    <text dy=\"1.25em\" style=\"font-size: 0.8em; letter-spacing: 1px\">\n",
              "        <textPath xlink:href=\"#arrow-9e072629c21f4f10be68b7d1ee6028e3-0-3\" class=\"displacy-label\" startOffset=\"50%\" side=\"left\" fill=\"currentColor\" text-anchor=\"middle\">pobj</textPath>\n",
              "    </text>\n",
              "    <path class=\"displacy-arrowhead\" d=\"M320.0,144.0 L328.0,132.0 312.0,132.0\" fill=\"currentColor\"/>\n",
              "</g>\n",
              "\n",
              "<g class=\"displacy-arrow\">\n",
              "    <path class=\"displacy-arc\" id=\"arrow-9e072629c21f4f10be68b7d1ee6028e3-0-4\" stroke-width=\"2px\" d=\"M140,142.0 C140,37.0 395.0,37.0 395.0,142.0\" fill=\"none\" stroke=\"currentColor\"/>\n",
              "    <text dy=\"1.25em\" style=\"font-size: 0.8em; letter-spacing: 1px\">\n",
              "        <textPath xlink:href=\"#arrow-9e072629c21f4f10be68b7d1ee6028e3-0-4\" class=\"displacy-label\" startOffset=\"50%\" side=\"left\" fill=\"currentColor\" text-anchor=\"middle\">prep</textPath>\n",
              "    </text>\n",
              "    <path class=\"displacy-arrowhead\" d=\"M395.0,144.0 L403.0,132.0 387.0,132.0\" fill=\"currentColor\"/>\n",
              "</g>\n",
              "\n",
              "<g class=\"displacy-arrow\">\n",
              "    <path class=\"displacy-arc\" id=\"arrow-9e072629c21f4f10be68b7d1ee6028e3-0-5\" stroke-width=\"2px\" d=\"M490,142.0 C490,72.0 600.0,72.0 600.0,142.0\" fill=\"none\" stroke=\"currentColor\"/>\n",
              "    <text dy=\"1.25em\" style=\"font-size: 0.8em; letter-spacing: 1px\">\n",
              "        <textPath xlink:href=\"#arrow-9e072629c21f4f10be68b7d1ee6028e3-0-5\" class=\"displacy-label\" startOffset=\"50%\" side=\"left\" fill=\"currentColor\" text-anchor=\"middle\">det</textPath>\n",
              "    </text>\n",
              "    <path class=\"displacy-arrowhead\" d=\"M490,144.0 L482,132.0 498,132.0\" fill=\"currentColor\"/>\n",
              "</g>\n",
              "\n",
              "<g class=\"displacy-arrow\">\n",
              "    <path class=\"displacy-arc\" id=\"arrow-9e072629c21f4f10be68b7d1ee6028e3-0-6\" stroke-width=\"2px\" d=\"M560,142.0 C560,107.0 595.0,107.0 595.0,142.0\" fill=\"none\" stroke=\"currentColor\"/>\n",
              "    <text dy=\"1.25em\" style=\"font-size: 0.8em; letter-spacing: 1px\">\n",
              "        <textPath xlink:href=\"#arrow-9e072629c21f4f10be68b7d1ee6028e3-0-6\" class=\"displacy-label\" startOffset=\"50%\" side=\"left\" fill=\"currentColor\" text-anchor=\"middle\">compound</textPath>\n",
              "    </text>\n",
              "    <path class=\"displacy-arrowhead\" d=\"M560,144.0 L552,132.0 568,132.0\" fill=\"currentColor\"/>\n",
              "</g>\n",
              "\n",
              "<g class=\"displacy-arrow\">\n",
              "    <path class=\"displacy-arc\" id=\"arrow-9e072629c21f4f10be68b7d1ee6028e3-0-7\" stroke-width=\"2px\" d=\"M420,142.0 C420,37.0 605.0,37.0 605.0,142.0\" fill=\"none\" stroke=\"currentColor\"/>\n",
              "    <text dy=\"1.25em\" style=\"font-size: 0.8em; letter-spacing: 1px\">\n",
              "        <textPath xlink:href=\"#arrow-9e072629c21f4f10be68b7d1ee6028e3-0-7\" class=\"displacy-label\" startOffset=\"50%\" side=\"left\" fill=\"currentColor\" text-anchor=\"middle\">pobj</textPath>\n",
              "    </text>\n",
              "    <path class=\"displacy-arrowhead\" d=\"M605.0,144.0 L613.0,132.0 597.0,132.0\" fill=\"currentColor\"/>\n",
              "</g>\n",
              "\n",
              "<g class=\"displacy-arrow\">\n",
              "    <path class=\"displacy-arc\" id=\"arrow-9e072629c21f4f10be68b7d1ee6028e3-0-8\" stroke-width=\"2px\" d=\"M630,142.0 C630,107.0 665.0,107.0 665.0,142.0\" fill=\"none\" stroke=\"currentColor\"/>\n",
              "    <text dy=\"1.25em\" style=\"font-size: 0.8em; letter-spacing: 1px\">\n",
              "        <textPath xlink:href=\"#arrow-9e072629c21f4f10be68b7d1ee6028e3-0-8\" class=\"displacy-label\" startOffset=\"50%\" side=\"left\" fill=\"currentColor\" text-anchor=\"middle\">prep</textPath>\n",
              "    </text>\n",
              "    <path class=\"displacy-arrowhead\" d=\"M665.0,144.0 L673.0,132.0 657.0,132.0\" fill=\"currentColor\"/>\n",
              "</g>\n",
              "\n",
              "<g class=\"displacy-arrow\">\n",
              "    <path class=\"displacy-arc\" id=\"arrow-9e072629c21f4f10be68b7d1ee6028e3-0-9\" stroke-width=\"2px\" d=\"M770,142.0 C770,107.0 805.0,107.0 805.0,142.0\" fill=\"none\" stroke=\"currentColor\"/>\n",
              "    <text dy=\"1.25em\" style=\"font-size: 0.8em; letter-spacing: 1px\">\n",
              "        <textPath xlink:href=\"#arrow-9e072629c21f4f10be68b7d1ee6028e3-0-9\" class=\"displacy-label\" startOffset=\"50%\" side=\"left\" fill=\"currentColor\" text-anchor=\"middle\">det</textPath>\n",
              "    </text>\n",
              "    <path class=\"displacy-arrowhead\" d=\"M770,144.0 L762,132.0 778,132.0\" fill=\"currentColor\"/>\n",
              "</g>\n",
              "\n",
              "<g class=\"displacy-arrow\">\n",
              "    <path class=\"displacy-arc\" id=\"arrow-9e072629c21f4f10be68b7d1ee6028e3-0-10\" stroke-width=\"2px\" d=\"M700,142.0 C700,72.0 810.0,72.0 810.0,142.0\" fill=\"none\" stroke=\"currentColor\"/>\n",
              "    <text dy=\"1.25em\" style=\"font-size: 0.8em; letter-spacing: 1px\">\n",
              "        <textPath xlink:href=\"#arrow-9e072629c21f4f10be68b7d1ee6028e3-0-10\" class=\"displacy-label\" startOffset=\"50%\" side=\"left\" fill=\"currentColor\" text-anchor=\"middle\">pobj</textPath>\n",
              "    </text>\n",
              "    <path class=\"displacy-arrowhead\" d=\"M810.0,144.0 L818.0,132.0 802.0,132.0\" fill=\"currentColor\"/>\n",
              "</g>\n",
              "\n",
              "<g class=\"displacy-arrow\">\n",
              "    <path class=\"displacy-arc\" id=\"arrow-9e072629c21f4f10be68b7d1ee6028e3-0-11\" stroke-width=\"2px\" d=\"M840,142.0 C840,107.0 875.0,107.0 875.0,142.0\" fill=\"none\" stroke=\"currentColor\"/>\n",
              "    <text dy=\"1.25em\" style=\"font-size: 0.8em; letter-spacing: 1px\">\n",
              "        <textPath xlink:href=\"#arrow-9e072629c21f4f10be68b7d1ee6028e3-0-11\" class=\"displacy-label\" startOffset=\"50%\" side=\"left\" fill=\"currentColor\" text-anchor=\"middle\">prep</textPath>\n",
              "    </text>\n",
              "    <path class=\"displacy-arrowhead\" d=\"M875.0,144.0 L883.0,132.0 867.0,132.0\" fill=\"currentColor\"/>\n",
              "</g>\n",
              "\n",
              "<g class=\"displacy-arrow\">\n",
              "    <path class=\"displacy-arc\" id=\"arrow-9e072629c21f4f10be68b7d1ee6028e3-0-12\" stroke-width=\"2px\" d=\"M980,142.0 C980,37.0 1305.0,37.0 1305.0,142.0\" fill=\"none\" stroke=\"currentColor\"/>\n",
              "    <text dy=\"1.25em\" style=\"font-size: 0.8em; letter-spacing: 1px\">\n",
              "        <textPath xlink:href=\"#arrow-9e072629c21f4f10be68b7d1ee6028e3-0-12\" class=\"displacy-label\" startOffset=\"50%\" side=\"left\" fill=\"currentColor\" text-anchor=\"middle\">det</textPath>\n",
              "    </text>\n",
              "    <path class=\"displacy-arrowhead\" d=\"M980,144.0 L972,132.0 988,132.0\" fill=\"currentColor\"/>\n",
              "</g>\n",
              "\n",
              "<g class=\"displacy-arrow\">\n",
              "    <path class=\"displacy-arc\" id=\"arrow-9e072629c21f4f10be68b7d1ee6028e3-0-13\" stroke-width=\"2px\" d=\"M980,142.0 C980,107.0 1015.0,107.0 1015.0,142.0\" fill=\"none\" stroke=\"currentColor\"/>\n",
              "    <text dy=\"1.25em\" style=\"font-size: 0.8em; letter-spacing: 1px\">\n",
              "        <textPath xlink:href=\"#arrow-9e072629c21f4f10be68b7d1ee6028e3-0-13\" class=\"displacy-label\" startOffset=\"50%\" side=\"left\" fill=\"currentColor\" text-anchor=\"middle\">dep</textPath>\n",
              "    </text>\n",
              "    <path class=\"displacy-arrowhead\" d=\"M1015.0,144.0 L1023.0,132.0 1007.0,132.0\" fill=\"currentColor\"/>\n",
              "</g>\n",
              "\n",
              "<g class=\"displacy-arrow\">\n",
              "    <path class=\"displacy-arc\" id=\"arrow-9e072629c21f4f10be68b7d1ee6028e3-0-14\" stroke-width=\"2px\" d=\"M1120,142.0 C1120,107.0 1155.0,107.0 1155.0,142.0\" fill=\"none\" stroke=\"currentColor\"/>\n",
              "    <text dy=\"1.25em\" style=\"font-size: 0.8em; letter-spacing: 1px\">\n",
              "        <textPath xlink:href=\"#arrow-9e072629c21f4f10be68b7d1ee6028e3-0-14\" class=\"displacy-label\" startOffset=\"50%\" side=\"left\" fill=\"currentColor\" text-anchor=\"middle\">advmod</textPath>\n",
              "    </text>\n",
              "    <path class=\"displacy-arrowhead\" d=\"M1120,144.0 L1112,132.0 1128,132.0\" fill=\"currentColor\"/>\n",
              "</g>\n",
              "\n",
              "<g class=\"displacy-arrow\">\n",
              "    <path class=\"displacy-arc\" id=\"arrow-9e072629c21f4f10be68b7d1ee6028e3-0-15\" stroke-width=\"2px\" d=\"M1190,142.0 C1190,72.0 1300.0,72.0 1300.0,142.0\" fill=\"none\" stroke=\"currentColor\"/>\n",
              "    <text dy=\"1.25em\" style=\"font-size: 0.8em; letter-spacing: 1px\">\n",
              "        <textPath xlink:href=\"#arrow-9e072629c21f4f10be68b7d1ee6028e3-0-15\" class=\"displacy-label\" startOffset=\"50%\" side=\"left\" fill=\"currentColor\" text-anchor=\"middle\">amod</textPath>\n",
              "    </text>\n",
              "    <path class=\"displacy-arrowhead\" d=\"M1190,144.0 L1182,132.0 1198,132.0\" fill=\"currentColor\"/>\n",
              "</g>\n",
              "\n",
              "<g class=\"displacy-arrow\">\n",
              "    <path class=\"displacy-arc\" id=\"arrow-9e072629c21f4f10be68b7d1ee6028e3-0-16\" stroke-width=\"2px\" d=\"M1260,142.0 C1260,107.0 1295.0,107.0 1295.0,142.0\" fill=\"none\" stroke=\"currentColor\"/>\n",
              "    <text dy=\"1.25em\" style=\"font-size: 0.8em; letter-spacing: 1px\">\n",
              "        <textPath xlink:href=\"#arrow-9e072629c21f4f10be68b7d1ee6028e3-0-16\" class=\"displacy-label\" startOffset=\"50%\" side=\"left\" fill=\"currentColor\" text-anchor=\"middle\">compound</textPath>\n",
              "    </text>\n",
              "    <path class=\"displacy-arrowhead\" d=\"M1260,144.0 L1252,132.0 1268,132.0\" fill=\"currentColor\"/>\n",
              "</g>\n",
              "\n",
              "<g class=\"displacy-arrow\">\n",
              "    <path class=\"displacy-arc\" id=\"arrow-9e072629c21f4f10be68b7d1ee6028e3-0-17\" stroke-width=\"2px\" d=\"M140,142.0 C140,2.0 1310.0,2.0 1310.0,142.0\" fill=\"none\" stroke=\"currentColor\"/>\n",
              "    <text dy=\"1.25em\" style=\"font-size: 0.8em; letter-spacing: 1px\">\n",
              "        <textPath xlink:href=\"#arrow-9e072629c21f4f10be68b7d1ee6028e3-0-17\" class=\"displacy-label\" startOffset=\"50%\" side=\"left\" fill=\"currentColor\" text-anchor=\"middle\">punct</textPath>\n",
              "    </text>\n",
              "    <path class=\"displacy-arrowhead\" d=\"M1310.0,144.0 L1318.0,132.0 1302.0,132.0\" fill=\"currentColor\"/>\n",
              "</g>\n",
              "\n",
              "<g class=\"displacy-arrow\">\n",
              "    <path class=\"displacy-arc\" id=\"arrow-9e072629c21f4f10be68b7d1ee6028e3-0-18\" stroke-width=\"2px\" d=\"M1330,142.0 C1330,107.0 1365.0,107.0 1365.0,142.0\" fill=\"none\" stroke=\"currentColor\"/>\n",
              "    <text dy=\"1.25em\" style=\"font-size: 0.8em; letter-spacing: 1px\">\n",
              "        <textPath xlink:href=\"#arrow-9e072629c21f4f10be68b7d1ee6028e3-0-18\" class=\"displacy-label\" startOffset=\"50%\" side=\"left\" fill=\"currentColor\" text-anchor=\"middle\">dep</textPath>\n",
              "    </text>\n",
              "    <path class=\"displacy-arrowhead\" d=\"M1365.0,144.0 L1373.0,132.0 1357.0,132.0\" fill=\"currentColor\"/>\n",
              "</g>\n",
              "</svg></span>"
            ]
          },
          "metadata": {}
        }
      ]
    },
    {
      "cell_type": "markdown",
      "source": [
        "Show the first two named entities from Beatrix Potter's The Tale of Peter Rabbit"
      ],
      "metadata": {
        "id": "O4sa4j035sPb"
      }
    },
    {
      "cell_type": "code",
      "source": [
        "text = \"\"\"\n",
        "The Tale of Peter Rabbit, by Beatrix Potter (1902).\n",
        "\n",
        "Once upon a time there were four little Rabbits, and their names\n",
        "were--\n",
        "\n",
        "          Flopsy,\n",
        "       Mopsy,\n",
        "   Cotton-tail,\n",
        "and Peter.\n",
        "\n",
        "They lived with their Mother in a sand-bank, underneath the root of a\n",
        "very big fir-tree.\n",
        "\n",
        "'Now my dears,' said old Mrs. Rabbit one morning, 'you may go into\n",
        "the fields or down the lane, but don't go into Mr. McGregor's garden:\n",
        "your Father had an accident there; he was put in a pie by Mrs.\n",
        "McGregor.'\n",
        "\n",
        "'Now run along, and don't get into mischief. I am going out.'\n",
        "\n",
        "Then old Mrs. Rabbit took a basket and her umbrella, and went through\n",
        "the wood to the baker's. She bought a loaf of brown bread and five\n",
        "currant buns.\n",
        "\n",
        "Flopsy, Mopsy, and Cottontail, who were good little bunnies, went\n",
        "down the lane to gather blackberries:\n",
        "\n",
        "But Peter, who was very naughty, ran straight away to Mr. McGregor's\n",
        "garden, and squeezed under the gate!\n",
        "\n",
        "First he ate some lettuces and some French beans; and then he ate\n",
        "some radishes;\n",
        "\n",
        "And then, feeling rather sick, he went to look for some parsley.\n",
        "\n",
        "But round the end of a cucumber frame, whom should he meet but Mr.\n",
        "McGregor!\n",
        "\n",
        "Mr. McGregor was on his hands and knees planting out young cabbages,\n",
        "but he jumped up and ran after Peter, waving a rake and calling out,\n",
        "'Stop thief!'\n",
        "\n",
        "Peter was most dreadfully frightened; he rushed all over the garden,\n",
        "for he had forgotten the way back to the gate.\n",
        "\n",
        "He lost one of his shoes among the cabbages, and the other shoe\n",
        "amongst the potatoes.\n",
        "\n",
        "After losing them, he ran on four legs and went faster, so that I\n",
        "think he might have got away altogether if he had not unfortunately\n",
        "run into a gooseberry net, and got caught by the large buttons on his\n",
        "jacket. It was a blue jacket with brass buttons, quite new.\n",
        "\n",
        "Peter gave himself up for lost, and shed big tears; but his sobs were\n",
        "overheard by some friendly sparrows, who flew to him in great\n",
        "excitement, and implored him to exert himself.\n",
        "\n",
        "Mr. McGregor came up with a sieve, which he intended to pop upon the\n",
        "top of Peter; but Peter wriggled out just in time, leaving his jacket\n",
        "behind him.\n",
        "\n",
        "And rushed into the tool-shed, and jumped into a can. It would have\n",
        "been a beautiful thing to hide in, if it had not had so much water in it.\n",
        "\n",
        "Mr. McGregor was quite sure that Peter was somewhere in the\n",
        "tool-shed, perhaps hidden underneath a flower-pot. He began to turn\n",
        "them over carefully, looking under each.\n",
        "\n",
        "Presently Peter sneezed--'Kertyschoo!' Mr. McGregor was after him in\n",
        "no time.\n",
        "\n",
        "And tried to put his foot upon Peter, who jumped out of a window,\n",
        "upsetting three plants. The window was too small for Mr. McGregor, and\n",
        "he was tired of running after Peter. He went back to his work.\n",
        "\n",
        "Peter sat down to rest; he was out of breath and trembling with\n",
        "fright, and he had not the least idea which way to go. Also he was\n",
        "very damp with sitting in that can.\n",
        "\n",
        "After a time he began to wander about, going lippity--lippity--not\n",
        "very fast, and looking all round.\n",
        "\n",
        "He found a door in a wall; but it was locked, and there was no room\n",
        "for a fat little rabbit to squeeze underneath.\n",
        "\n",
        "An old mouse was running in and out over the stone doorstep, carrying\n",
        "peas and beans to her family in the wood. Peter asked her the way to\n",
        "the gate, but she had such a large pea in her mouth that she could not\n",
        "answer. She only shook her head at him. Peter began to cry.\n",
        "\n",
        "Then he tried to find his way straight across the garden, but he\n",
        "became more and more puzzled. Presently, he came to a pond where Mr.\n",
        "McGregor filled his water-cans. A white cat was staring at some\n",
        "gold-fish, she sat very, very still, but now and then the tip of her\n",
        "tail twitched as if it were alive. Peter thought it best to go away\n",
        "without speaking to her; he had heard about cats from his cousin,\n",
        "little Benjamin Bunny.\n",
        "\n",
        "He went back towards the tool-shed, but suddenly, quite close to him,\n",
        "he heard the noise of a hoe--scr-r-ritch, scratch, scratch, scritch.\n",
        "Peter scuttered underneath the bushes. But presently, as nothing\n",
        "happened, he came out, and climbed upon a wheelbarrow and peeped over.\n",
        "The first thing he saw was Mr. McGregor hoeing onions. His back was\n",
        "turned towards Peter, and beyond him was the gate!\n",
        "\n",
        "Peter got down very quietly off the wheelbarrow; and started running\n",
        "as fast as he could go, along a straight walk behind some\n",
        "black-currant bushes.\n",
        "\n",
        "Mr. McGregor caught sight of him at the corner, but Peter did not\n",
        "care. He slipped underneath the gate, and was safe at last in the wood\n",
        "outside the garden.\n",
        "\n",
        "Mr. McGregor hung up the little jacket and the shoes for a scare-crow\n",
        "to frighten the blackbirds.\n",
        "\n",
        "Peter never stopped running or looked behind him till he got home to\n",
        "the big fir-tree.\n",
        "\n",
        "He was so tired that he flopped down upon the nice soft sand on the\n",
        "floor of the rabbit-hole and shut his eyes. His mother was busy\n",
        "cooking; she wondered what he had done with his clothes. It was the\n",
        "second little jacket and pair of shoes that Peter had lost in a\n",
        "fortnight!\n",
        "\n",
        "I am sorry to say that Peter was not very well during the evening.\n",
        "\n",
        "His mother put him to bed, and made some camomile tea; and she gave a\n",
        "dose of it to Peter!\n",
        "\n",
        "'One table-spoonful to be taken at bed-time.'\n",
        "\n",
        "But Flopsy, Mopsy, and Cotton-tail had bread and milk and\n",
        "blackberries for supper.\n",
        "\n",
        "THE END\n",
        "\n",
        "\"\"\"\n",
        "\n",
        "# Process the text\n",
        "doc = nlp(text)\n",
        "\n",
        "# Extract named entities and limit to first 2\n",
        "entities = [ent.text + ' - ' + ent.label_ + ' - ' + str(spacy.explain(ent.label_))for ent in doc.ents][:2]\n",
        "\n",
        "# Print results\n",
        "print(entities)"
      ],
      "metadata": {
        "id": "An9LmsJW5nus",
        "colab": {
          "base_uri": "https://localhost:8080/"
        },
        "outputId": "346ef445-ca98-4460-dbee-3279693cd7dd"
      },
      "execution_count": null,
      "outputs": [
        {
          "output_type": "stream",
          "name": "stdout",
          "text": [
            "['The Tale of Peter Rabbit - WORK_OF_ART - Titles of books, songs, etc.', 'Beatrix Potter - PERSON - People, including fictional']\n"
          ]
        }
      ]
    },
    {
      "cell_type": "markdown",
      "source": [
        "How many sentences are contained in The Tale of Peter Rabbit?"
      ],
      "metadata": {
        "id": "Kkbwf3nldG0k"
      }
    },
    {
      "cell_type": "code",
      "source": [
        "sentences = list(doc.sents)\n",
        "print(len(sentences))"
      ],
      "metadata": {
        "colab": {
          "base_uri": "https://localhost:8080/"
        },
        "id": "bP7n-MUBdBNi",
        "outputId": "175b8326-d55c-4af4-d339-3652be4bd917"
      },
      "execution_count": null,
      "outputs": [
        {
          "output_type": "stream",
          "name": "stdout",
          "text": [
            "57\n"
          ]
        }
      ]
    },
    {
      "cell_type": "markdown",
      "source": [
        "Display the named entity visualization for list_of_sents[0] from the previous problem"
      ],
      "metadata": {
        "id": "yu6bn6gReQUb"
      }
    },
    {
      "cell_type": "code",
      "source": [
        "displacy.render(sentences[0],style = 'dep', jupyter=True , options={'distance' : 70})"
      ],
      "metadata": {
        "colab": {
          "base_uri": "https://localhost:8080/",
          "height": 299
        },
        "id": "Uf7xLvmYeNtm",
        "outputId": "2b2c7db6-c46b-4619-aa3a-24b423652eb2"
      },
      "execution_count": null,
      "outputs": [
        {
          "output_type": "display_data",
          "data": {
            "text/plain": [
              "<IPython.core.display.HTML object>"
            ],
            "text/html": [
              "<span class=\"tex2jax_ignore\"><svg xmlns=\"http://www.w3.org/2000/svg\" xmlns:xlink=\"http://www.w3.org/1999/xlink\" xml:lang=\"en\" id=\"d39da03b4fe94002b59befa30aca5d64-0\" class=\"displacy\" width=\"820\" height=\"277.0\" direction=\"ltr\" style=\"max-width: none; height: 277.0px; color: #000000; background: #ffffff; font-family: Arial; direction: ltr\">\n",
              "<text class=\"displacy-token\" fill=\"currentColor\" text-anchor=\"middle\" y=\"187.0\">\n",
              "    <tspan class=\"displacy-word\" fill=\"currentColor\" x=\"50\">\n",
              "</tspan>\n",
              "    <tspan class=\"displacy-tag\" dy=\"2em\" fill=\"currentColor\" x=\"50\">SPACE</tspan>\n",
              "</text>\n",
              "\n",
              "<text class=\"displacy-token\" fill=\"currentColor\" text-anchor=\"middle\" y=\"187.0\">\n",
              "    <tspan class=\"displacy-word\" fill=\"currentColor\" x=\"120\">The</tspan>\n",
              "    <tspan class=\"displacy-tag\" dy=\"2em\" fill=\"currentColor\" x=\"120\">DET</tspan>\n",
              "</text>\n",
              "\n",
              "<text class=\"displacy-token\" fill=\"currentColor\" text-anchor=\"middle\" y=\"187.0\">\n",
              "    <tspan class=\"displacy-word\" fill=\"currentColor\" x=\"190\">Tale</tspan>\n",
              "    <tspan class=\"displacy-tag\" dy=\"2em\" fill=\"currentColor\" x=\"190\">PROPN</tspan>\n",
              "</text>\n",
              "\n",
              "<text class=\"displacy-token\" fill=\"currentColor\" text-anchor=\"middle\" y=\"187.0\">\n",
              "    <tspan class=\"displacy-word\" fill=\"currentColor\" x=\"260\">of</tspan>\n",
              "    <tspan class=\"displacy-tag\" dy=\"2em\" fill=\"currentColor\" x=\"260\">ADP</tspan>\n",
              "</text>\n",
              "\n",
              "<text class=\"displacy-token\" fill=\"currentColor\" text-anchor=\"middle\" y=\"187.0\">\n",
              "    <tspan class=\"displacy-word\" fill=\"currentColor\" x=\"330\">Peter</tspan>\n",
              "    <tspan class=\"displacy-tag\" dy=\"2em\" fill=\"currentColor\" x=\"330\">PROPN</tspan>\n",
              "</text>\n",
              "\n",
              "<text class=\"displacy-token\" fill=\"currentColor\" text-anchor=\"middle\" y=\"187.0\">\n",
              "    <tspan class=\"displacy-word\" fill=\"currentColor\" x=\"400\">Rabbit,</tspan>\n",
              "    <tspan class=\"displacy-tag\" dy=\"2em\" fill=\"currentColor\" x=\"400\">PROPN</tspan>\n",
              "</text>\n",
              "\n",
              "<text class=\"displacy-token\" fill=\"currentColor\" text-anchor=\"middle\" y=\"187.0\">\n",
              "    <tspan class=\"displacy-word\" fill=\"currentColor\" x=\"470\">by</tspan>\n",
              "    <tspan class=\"displacy-tag\" dy=\"2em\" fill=\"currentColor\" x=\"470\">ADP</tspan>\n",
              "</text>\n",
              "\n",
              "<text class=\"displacy-token\" fill=\"currentColor\" text-anchor=\"middle\" y=\"187.0\">\n",
              "    <tspan class=\"displacy-word\" fill=\"currentColor\" x=\"540\">Beatrix</tspan>\n",
              "    <tspan class=\"displacy-tag\" dy=\"2em\" fill=\"currentColor\" x=\"540\">PROPN</tspan>\n",
              "</text>\n",
              "\n",
              "<text class=\"displacy-token\" fill=\"currentColor\" text-anchor=\"middle\" y=\"187.0\">\n",
              "    <tspan class=\"displacy-word\" fill=\"currentColor\" x=\"610\">Potter (</tspan>\n",
              "    <tspan class=\"displacy-tag\" dy=\"2em\" fill=\"currentColor\" x=\"610\">PROPN</tspan>\n",
              "</text>\n",
              "\n",
              "<text class=\"displacy-token\" fill=\"currentColor\" text-anchor=\"middle\" y=\"187.0\">\n",
              "    <tspan class=\"displacy-word\" fill=\"currentColor\" x=\"680\">1902).</tspan>\n",
              "    <tspan class=\"displacy-tag\" dy=\"2em\" fill=\"currentColor\" x=\"680\">PUNCT</tspan>\n",
              "</text>\n",
              "\n",
              "<text class=\"displacy-token\" fill=\"currentColor\" text-anchor=\"middle\" y=\"187.0\">\n",
              "    <tspan class=\"displacy-word\" fill=\"currentColor\" x=\"750\">\n",
              "\n",
              "</tspan>\n",
              "    <tspan class=\"displacy-tag\" dy=\"2em\" fill=\"currentColor\" x=\"750\">SPACE</tspan>\n",
              "</text>\n",
              "\n",
              "<g class=\"displacy-arrow\">\n",
              "    <path class=\"displacy-arc\" id=\"arrow-d39da03b4fe94002b59befa30aca5d64-0-0\" stroke-width=\"2px\" d=\"M70,142.0 C70,107.0 105.0,107.0 105.0,142.0\" fill=\"none\" stroke=\"currentColor\"/>\n",
              "    <text dy=\"1.25em\" style=\"font-size: 0.8em; letter-spacing: 1px\">\n",
              "        <textPath xlink:href=\"#arrow-d39da03b4fe94002b59befa30aca5d64-0-0\" class=\"displacy-label\" startOffset=\"50%\" side=\"left\" fill=\"currentColor\" text-anchor=\"middle\">dep</textPath>\n",
              "    </text>\n",
              "    <path class=\"displacy-arrowhead\" d=\"M70,144.0 L62,132.0 78,132.0\" fill=\"currentColor\"/>\n",
              "</g>\n",
              "\n",
              "<g class=\"displacy-arrow\">\n",
              "    <path class=\"displacy-arc\" id=\"arrow-d39da03b4fe94002b59befa30aca5d64-0-1\" stroke-width=\"2px\" d=\"M140,142.0 C140,107.0 175.0,107.0 175.0,142.0\" fill=\"none\" stroke=\"currentColor\"/>\n",
              "    <text dy=\"1.25em\" style=\"font-size: 0.8em; letter-spacing: 1px\">\n",
              "        <textPath xlink:href=\"#arrow-d39da03b4fe94002b59befa30aca5d64-0-1\" class=\"displacy-label\" startOffset=\"50%\" side=\"left\" fill=\"currentColor\" text-anchor=\"middle\">det</textPath>\n",
              "    </text>\n",
              "    <path class=\"displacy-arrowhead\" d=\"M140,144.0 L132,132.0 148,132.0\" fill=\"currentColor\"/>\n",
              "</g>\n",
              "\n",
              "<g class=\"displacy-arrow\">\n",
              "    <path class=\"displacy-arc\" id=\"arrow-d39da03b4fe94002b59befa30aca5d64-0-2\" stroke-width=\"2px\" d=\"M210,142.0 C210,107.0 245.0,107.0 245.0,142.0\" fill=\"none\" stroke=\"currentColor\"/>\n",
              "    <text dy=\"1.25em\" style=\"font-size: 0.8em; letter-spacing: 1px\">\n",
              "        <textPath xlink:href=\"#arrow-d39da03b4fe94002b59befa30aca5d64-0-2\" class=\"displacy-label\" startOffset=\"50%\" side=\"left\" fill=\"currentColor\" text-anchor=\"middle\">prep</textPath>\n",
              "    </text>\n",
              "    <path class=\"displacy-arrowhead\" d=\"M245.0,144.0 L253.0,132.0 237.0,132.0\" fill=\"currentColor\"/>\n",
              "</g>\n",
              "\n",
              "<g class=\"displacy-arrow\">\n",
              "    <path class=\"displacy-arc\" id=\"arrow-d39da03b4fe94002b59befa30aca5d64-0-3\" stroke-width=\"2px\" d=\"M350,142.0 C350,107.0 385.0,107.0 385.0,142.0\" fill=\"none\" stroke=\"currentColor\"/>\n",
              "    <text dy=\"1.25em\" style=\"font-size: 0.8em; letter-spacing: 1px\">\n",
              "        <textPath xlink:href=\"#arrow-d39da03b4fe94002b59befa30aca5d64-0-3\" class=\"displacy-label\" startOffset=\"50%\" side=\"left\" fill=\"currentColor\" text-anchor=\"middle\">compound</textPath>\n",
              "    </text>\n",
              "    <path class=\"displacy-arrowhead\" d=\"M350,144.0 L342,132.0 358,132.0\" fill=\"currentColor\"/>\n",
              "</g>\n",
              "\n",
              "<g class=\"displacy-arrow\">\n",
              "    <path class=\"displacy-arc\" id=\"arrow-d39da03b4fe94002b59befa30aca5d64-0-4\" stroke-width=\"2px\" d=\"M280,142.0 C280,72.0 390.0,72.0 390.0,142.0\" fill=\"none\" stroke=\"currentColor\"/>\n",
              "    <text dy=\"1.25em\" style=\"font-size: 0.8em; letter-spacing: 1px\">\n",
              "        <textPath xlink:href=\"#arrow-d39da03b4fe94002b59befa30aca5d64-0-4\" class=\"displacy-label\" startOffset=\"50%\" side=\"left\" fill=\"currentColor\" text-anchor=\"middle\">pobj</textPath>\n",
              "    </text>\n",
              "    <path class=\"displacy-arrowhead\" d=\"M390.0,144.0 L398.0,132.0 382.0,132.0\" fill=\"currentColor\"/>\n",
              "</g>\n",
              "\n",
              "<g class=\"displacy-arrow\">\n",
              "    <path class=\"displacy-arc\" id=\"arrow-d39da03b4fe94002b59befa30aca5d64-0-5\" stroke-width=\"2px\" d=\"M210,142.0 C210,37.0 465.0,37.0 465.0,142.0\" fill=\"none\" stroke=\"currentColor\"/>\n",
              "    <text dy=\"1.25em\" style=\"font-size: 0.8em; letter-spacing: 1px\">\n",
              "        <textPath xlink:href=\"#arrow-d39da03b4fe94002b59befa30aca5d64-0-5\" class=\"displacy-label\" startOffset=\"50%\" side=\"left\" fill=\"currentColor\" text-anchor=\"middle\">prep</textPath>\n",
              "    </text>\n",
              "    <path class=\"displacy-arrowhead\" d=\"M465.0,144.0 L473.0,132.0 457.0,132.0\" fill=\"currentColor\"/>\n",
              "</g>\n",
              "\n",
              "<g class=\"displacy-arrow\">\n",
              "    <path class=\"displacy-arc\" id=\"arrow-d39da03b4fe94002b59befa30aca5d64-0-6\" stroke-width=\"2px\" d=\"M560,142.0 C560,107.0 595.0,107.0 595.0,142.0\" fill=\"none\" stroke=\"currentColor\"/>\n",
              "    <text dy=\"1.25em\" style=\"font-size: 0.8em; letter-spacing: 1px\">\n",
              "        <textPath xlink:href=\"#arrow-d39da03b4fe94002b59befa30aca5d64-0-6\" class=\"displacy-label\" startOffset=\"50%\" side=\"left\" fill=\"currentColor\" text-anchor=\"middle\">compound</textPath>\n",
              "    </text>\n",
              "    <path class=\"displacy-arrowhead\" d=\"M560,144.0 L552,132.0 568,132.0\" fill=\"currentColor\"/>\n",
              "</g>\n",
              "\n",
              "<g class=\"displacy-arrow\">\n",
              "    <path class=\"displacy-arc\" id=\"arrow-d39da03b4fe94002b59befa30aca5d64-0-7\" stroke-width=\"2px\" d=\"M490,142.0 C490,72.0 600.0,72.0 600.0,142.0\" fill=\"none\" stroke=\"currentColor\"/>\n",
              "    <text dy=\"1.25em\" style=\"font-size: 0.8em; letter-spacing: 1px\">\n",
              "        <textPath xlink:href=\"#arrow-d39da03b4fe94002b59befa30aca5d64-0-7\" class=\"displacy-label\" startOffset=\"50%\" side=\"left\" fill=\"currentColor\" text-anchor=\"middle\">pobj</textPath>\n",
              "    </text>\n",
              "    <path class=\"displacy-arrowhead\" d=\"M600.0,144.0 L608.0,132.0 592.0,132.0\" fill=\"currentColor\"/>\n",
              "</g>\n",
              "\n",
              "<g class=\"displacy-arrow\">\n",
              "    <path class=\"displacy-arc\" id=\"arrow-d39da03b4fe94002b59befa30aca5d64-0-8\" stroke-width=\"2px\" d=\"M210,142.0 C210,2.0 680.0,2.0 680.0,142.0\" fill=\"none\" stroke=\"currentColor\"/>\n",
              "    <text dy=\"1.25em\" style=\"font-size: 0.8em; letter-spacing: 1px\">\n",
              "        <textPath xlink:href=\"#arrow-d39da03b4fe94002b59befa30aca5d64-0-8\" class=\"displacy-label\" startOffset=\"50%\" side=\"left\" fill=\"currentColor\" text-anchor=\"middle\">punct</textPath>\n",
              "    </text>\n",
              "    <path class=\"displacy-arrowhead\" d=\"M680.0,144.0 L688.0,132.0 672.0,132.0\" fill=\"currentColor\"/>\n",
              "</g>\n",
              "\n",
              "<g class=\"displacy-arrow\">\n",
              "    <path class=\"displacy-arc\" id=\"arrow-d39da03b4fe94002b59befa30aca5d64-0-9\" stroke-width=\"2px\" d=\"M700,142.0 C700,107.0 735.0,107.0 735.0,142.0\" fill=\"none\" stroke=\"currentColor\"/>\n",
              "    <text dy=\"1.25em\" style=\"font-size: 0.8em; letter-spacing: 1px\">\n",
              "        <textPath xlink:href=\"#arrow-d39da03b4fe94002b59befa30aca5d64-0-9\" class=\"displacy-label\" startOffset=\"50%\" side=\"left\" fill=\"currentColor\" text-anchor=\"middle\">dep</textPath>\n",
              "    </text>\n",
              "    <path class=\"displacy-arrowhead\" d=\"M735.0,144.0 L743.0,132.0 727.0,132.0\" fill=\"currentColor\"/>\n",
              "</g>\n",
              "</svg></span>"
            ]
          },
          "metadata": {}
        }
      ]
    }
  ]
}