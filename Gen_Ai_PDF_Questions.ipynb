{
  "cells": [
    {
      "cell_type": "code",
      "execution_count": null,
      "id": "2aa041f8-af21-413c-a7e1-713eebd3e755",
      "metadata": {
        "id": "2aa041f8-af21-413c-a7e1-713eebd3e755",
        "outputId": "0f104be1-cf6e-434f-c26d-2f58a9e489fe"
      },
      "outputs": [
        {
          "name": "stdout",
          "output_type": "stream",
          "text": [
            "NLP stands for Natural Language Processing using the variables provided.\n"
          ]
        }
      ],
      "source": [
        "# Print an f-string that displays NLP stands for Natural Language Processing using the variables provided.\n",
        "f_string = \"NLP stands for Natural Language Processing using the variables provided.\"\n",
        "print(f\"{f_string}\")"
      ]
    },
    {
      "cell_type": "code",
      "execution_count": null,
      "id": "b022aff2-0f59-4493-a531-4dadf82243b1",
      "metadata": {
        "id": "b022aff2-0f59-4493-a531-4dadf82243b1",
        "outputId": "80b9db3b-6725-4a46-b9c1-883c1d7c9613"
      },
      "outputs": [
        {
          "name": "stdout",
          "output_type": "stream",
          "text": [
            "Overwriting contacts.txt\n"
          ]
        }
      ],
      "source": [
        "# Create a file in the current working directory called contacts.txt by running the cell below.\n",
        "%%writefile contacts.txt\n",
        "Name, Phone_number, Email, Address"
      ]
    },
    {
      "cell_type": "code",
      "execution_count": null,
      "id": "af9c6856-53ac-4a9a-8119-1a10376a91a7",
      "metadata": {
        "id": "af9c6856-53ac-4a9a-8119-1a10376a91a7"
      },
      "outputs": [],
      "source": [
        "# Open the file and use .read() to save the contents of the file to a string called fields. Make sure the file is closed at the end.\n",
        "x = open(\"contacts.txt\")"
      ]
    },
    {
      "cell_type": "code",
      "execution_count": null,
      "id": "587cbec6-c348-43c6-a39e-d33a581b2df9",
      "metadata": {
        "id": "587cbec6-c348-43c6-a39e-d33a581b2df9"
      },
      "outputs": [],
      "source": [
        "fields = x.read()"
      ]
    },
    {
      "cell_type": "code",
      "execution_count": null,
      "id": "2c0bd298-69ca-40bb-a0a6-5986e393d328",
      "metadata": {
        "id": "2c0bd298-69ca-40bb-a0a6-5986e393d328"
      },
      "outputs": [],
      "source": [
        "x.close()"
      ]
    },
    {
      "cell_type": "code",
      "execution_count": null,
      "id": "5ada56f7-aaa5-46a2-9e64-2f82c778e33a",
      "metadata": {
        "id": "5ada56f7-aaa5-46a2-9e64-2f82c778e33a"
      },
      "outputs": [],
      "source": [
        "# Use PyPDF2 to open the file Business_Proposal.pdf. Extract the text of page 2.\n",
        "import PyPDF2"
      ]
    },
    {
      "cell_type": "code",
      "execution_count": null,
      "id": "363324e3-67a1-4d3a-8325-e25e261cb4f7",
      "metadata": {
        "id": "363324e3-67a1-4d3a-8325-e25e261cb4f7"
      },
      "outputs": [],
      "source": [
        "pdf = open(\"Business_Proposal.pdf\",\"rb\")"
      ]
    },
    {
      "cell_type": "code",
      "execution_count": null,
      "id": "558bc9cd-a1ab-4226-8dab-219e98d1c3e6",
      "metadata": {
        "id": "558bc9cd-a1ab-4226-8dab-219e98d1c3e6"
      },
      "outputs": [],
      "source": [
        "pdf_read = PyPDF2.PdfReader(pdf)"
      ]
    },
    {
      "cell_type": "code",
      "execution_count": null,
      "id": "4408dd3f-cbad-41ec-8e03-d6e508382c81",
      "metadata": {
        "id": "4408dd3f-cbad-41ec-8e03-d6e508382c81",
        "outputId": "7078172d-8583-48af-beb4-99491f48d18a"
      },
      "outputs": [
        {
          "data": {
            "text/plain": [
              "2"
            ]
          },
          "execution_count": 27,
          "metadata": {},
          "output_type": "execute_result"
        }
      ],
      "source": [
        "len(pdf_read.pages)"
      ]
    },
    {
      "cell_type": "code",
      "execution_count": null,
      "id": "bb762024-4b0f-4c36-a159-4017dede978c",
      "metadata": {
        "id": "bb762024-4b0f-4c36-a159-4017dede978c"
      },
      "outputs": [],
      "source": [
        "page_two = pdf_read.pages[1]"
      ]
    },
    {
      "cell_type": "code",
      "execution_count": null,
      "id": "1de89d06-4d4e-4137-a61e-7cdfd980adcb",
      "metadata": {
        "id": "1de89d06-4d4e-4137-a61e-7cdfd980adcb"
      },
      "outputs": [],
      "source": [
        "page_two_text = page_two.extract_text()"
      ]
    },
    {
      "cell_type": "code",
      "execution_count": null,
      "id": "3e864b67-edfd-49b9-b10b-f1bacd939c1f",
      "metadata": {
        "id": "3e864b67-edfd-49b9-b10b-f1bacd939c1f",
        "outputId": "bb71c601-5e36-4a2c-c1e9-a57ce57ba0fb"
      },
      "outputs": [
        {
          "data": {
            "text/plain": [
              "'AUTHORS:  \\nAmy Baker, Finance Chair, x345, abaker@ourcompany.com  \\nChris Donaldson, Accounting Dir., x621, cdonaldson@ourcompany.com  \\nErin Freeman, Sr. VP, x879, efreeman@ourcompany.com  '"
            ]
          },
          "execution_count": 93,
          "metadata": {},
          "output_type": "execute_result"
        }
      ],
      "source": [
        "page_two_text"
      ]
    },
    {
      "cell_type": "code",
      "execution_count": null,
      "id": "33a7d1fa-82db-4c73-a5fb-6761e2ef05cf",
      "metadata": {
        "id": "33a7d1fa-82db-4c73-a5fb-6761e2ef05cf"
      },
      "outputs": [],
      "source": [
        "pdf.close()"
      ]
    },
    {
      "cell_type": "code",
      "execution_count": null,
      "id": "0992dcff-9e64-4a41-aa1a-4fe375ebef39",
      "metadata": {
        "id": "0992dcff-9e64-4a41-aa1a-4fe375ebef39",
        "outputId": "890d479f-fd5b-4417-f8e4-0d75a09cd73a"
      },
      "outputs": [
        {
          "name": "stdout",
          "output_type": "stream",
          "text": [
            "Name, Phone_number, Email, Address\n",
            "AUTHORS:  \n",
            "Amy Baker, Finance Chair, x345, abaker@ourcompany.com  \n",
            "Chris Donaldson, Accounting Dir., x621, cdonaldson@ourcompany.com  \n",
            "Erin Freeman, Sr. VP, x879, efreeman@ourcompany.com  \n"
          ]
        }
      ],
      "source": [
        "with open(\"contacts.txt\",\"a+\") as c:\n",
        "    c.write(page_two_text)\n",
        "    c.seek(0)\n",
        "    print(c.read())"
      ]
    },
    {
      "cell_type": "code",
      "execution_count": null,
      "id": "2e74fcc8-c504-4cc2-8000-5fc8122b1737",
      "metadata": {
        "id": "2e74fcc8-c504-4cc2-8000-5fc8122b1737"
      },
      "outputs": [],
      "source": [
        "import re"
      ]
    },
    {
      "cell_type": "code",
      "execution_count": null,
      "id": "f1b71e5b-eab6-4795-9d78-d3289a8a7cb5",
      "metadata": {
        "id": "f1b71e5b-eab6-4795-9d78-d3289a8a7cb5",
        "outputId": "38a86406-24f6-4395-c3b1-db20228c7e4b"
      },
      "outputs": [
        {
          "data": {
            "text/plain": [
              "['abaker@ourcompany.com',\n",
              " 'cdonaldson@ourcompany.com',\n",
              " 'efreeman@ourcompany.com']"
            ]
          },
          "execution_count": 105,
          "metadata": {},
          "output_type": "execute_result"
        }
      ],
      "source": [
        "pattern = r'\\w+@\\w+.\\w{3}'\n",
        "re.findall(pattern,page_two_text)"
      ]
    }
  ],
  "metadata": {
    "kernelspec": {
      "display_name": "Python 3 (ipykernel)",
      "language": "python",
      "name": "python3"
    },
    "language_info": {
      "codemirror_mode": {
        "name": "ipython",
        "version": 3
      },
      "file_extension": ".py",
      "mimetype": "text/x-python",
      "name": "python",
      "nbconvert_exporter": "python",
      "pygments_lexer": "ipython3",
      "version": "3.12.4"
    },
    "colab": {
      "provenance": []
    }
  },
  "nbformat": 4,
  "nbformat_minor": 5
}